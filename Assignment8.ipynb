{
  "nbformat": 4,
  "nbformat_minor": 0,
  "metadata": {
    "colab": {
      "provenance": [],
      "authorship_tag": "ABX9TyPVhNX4fc2m7Oi7gwxTrszC",
      "include_colab_link": true
    },
    "kernelspec": {
      "name": "python3",
      "display_name": "Python 3"
    },
    "language_info": {
      "name": "python"
    }
  },
  "cells": [
    {
      "cell_type": "markdown",
      "metadata": {
        "id": "view-in-github",
        "colab_type": "text"
      },
      "source": [
        "<a href=\"https://colab.research.google.com/github/bradynp/CSC221_bprim002/blob/main/Assignment8.ipynb\" target=\"_parent\"><img src=\"https://colab.research.google.com/assets/colab-badge.svg\" alt=\"Open In Colab\"/></a>"
      ]
    },
    {
      "cell_type": "code",
      "source": [
        "#TIY 8-2\n",
        "def favorite_book(title):\n",
        "    print(f\"One of my favorite books is {title}.\")\n",
        "\n",
        "favorite_book('Harry Potter and the Goblet of Fire')"
      ],
      "metadata": {
        "id": "OUD0LycpPrvY"
      },
      "execution_count": null,
      "outputs": []
    },
    {
      "cell_type": "code",
      "source": [
        "#TIY 8-3\n",
        "def make_shirt(size, message):\n",
        "    print(f'My {size} t-shirt says \"{message}\"')\n",
        "\n",
        "make_shirt('large', 'Lebron is the GOAT')\n",
        "make_shirt(message=\"Plattsburgh Soccer\", size='small')"
      ],
      "metadata": {
        "id": "i-PTVIR9P-iz"
      },
      "execution_count": null,
      "outputs": []
    },
    {
      "cell_type": "code",
      "source": [
        "#TIY 8-4\n",
        "\n",
        "def make_shirt(size='large', message='I love Python!'):\n",
        "   print(f\"\\n My {size} t-shirt says {message}.\")\n",
        "\n",
        "make_shirt()\n",
        "make_shirt(size='medium')\n",
        "make_shirt('small', 'have a good day')"
      ],
      "metadata": {
        "id": "yIWJtgh9QAUT"
      },
      "execution_count": null,
      "outputs": []
    },
    {
      "cell_type": "code",
      "source": [
        "# PSEUDOCODE\n",
        "\n",
        "# define function and give it 3 arguments\n",
        "#give c a default value\n",
        "def func8(a, b, c=42):\n",
        "\n",
        "# write and sum of the 3 values\n",
        "\n",
        "  sum = a + b + c\n",
        "\n",
        "# write product of the 3 numbers\n",
        "\n",
        "  product = a * b * c\n",
        "\n",
        "# List the values in order\n",
        "\n",
        "list = (\"a\", \"b\", \"c\")\n",
        "sorted_list = sorted(list)\n",
        "print(sorted_list)\n",
        "\n",
        "\n",
        "# assign the variables numbers\n",
        "\n",
        "func8(100, 10000, 100000)"
      ],
      "metadata": {
        "id": "TQnkRYon4VIa"
      },
      "execution_count": null,
      "outputs": []
    },
    {
      "cell_type": "code",
      "execution_count": null,
      "metadata": {
        "id": "8P_1ztdbxPtM"
      },
      "outputs": [],
      "source": [
        "# func8\n",
        "\n",
        "def func8(a, b, c = 42):\n",
        "  sum = a + b + c\n",
        "  print(sum)\n",
        "\n",
        "  product = a * b * c\n",
        "  print(product)\n",
        "\n",
        "list = (8, 2, 9)\n",
        "sorted_list = sorted(list)\n",
        "print(sorted_list)\n",
        "\n",
        "func8(8, 2, 9)\n"
      ]
    },
    {
      "cell_type": "code",
      "source": [
        "# more examples\n",
        "\n",
        "def func8(a, b, c = 42):\n",
        "  sum = a + b + c\n",
        "  print(sum)\n",
        "\n",
        "  product = a * b * c\n",
        "  print(product)\n",
        "\n",
        "list = (7, 7, 42)\n",
        "sorted_list = sorted(list)\n",
        "print(sorted_list)\n",
        "\n",
        "func8(7, 7)\n"
      ],
      "metadata": {
        "id": "Oh0rT3YT6Me1"
      },
      "execution_count": null,
      "outputs": []
    },
    {
      "cell_type": "code",
      "source": [
        "# more examples\n",
        "\n",
        "def func8(a, b, c = 42):\n",
        "  sum = a + b + c\n",
        "  print(sum)\n",
        "\n",
        "  product = a * b * c\n",
        "  print(product)\n",
        "\n",
        "list = (1, 3, 42)\n",
        "sorted_list = sorted(list)\n",
        "print(sorted_list)\n",
        "\n",
        "func8(1, 3)\n"
      ],
      "metadata": {
        "id": "5lnJgM106Za4"
      },
      "execution_count": null,
      "outputs": []
    },
    {
      "cell_type": "code",
      "source": [
        "# more examples\n",
        "\n",
        "def func8(a, b, c = 42):\n",
        "  sum = a + b + c\n",
        "  print(sum)\n",
        "\n",
        "  product = a * b * c\n",
        "  print(product)\n",
        "\n",
        "list = (180, 5, 42)\n",
        "sorted_list = sorted(list)\n",
        "print(sorted_list)\n",
        "\n",
        "func8(180, 5)\n"
      ],
      "metadata": {
        "id": "C5PpQK9GPiC_"
      },
      "execution_count": null,
      "outputs": []
    },
    {
      "cell_type": "code",
      "source": [
        "# more examples\n",
        "def func8(a, b, c = 42):\n",
        "  sum = a + b + c\n",
        "  print(sum)\n",
        "\n",
        "  product = a * b * c\n",
        "  print(product)\n",
        "\n",
        "list = (-100, 34)\n",
        "sorted_list = sorted(list)\n",
        "print(sorted_list)\n",
        "\n",
        "func8(-100, 34)"
      ],
      "metadata": {
        "id": "6zKV6p98U_eF"
      },
      "execution_count": null,
      "outputs": []
    },
    {
      "cell_type": "code",
      "source": [
        "# more examples\n",
        "def func8(a, b, c = 42):\n",
        "  sum = a + b + c\n",
        "  print(sum)\n",
        "\n",
        "  product = a * b * c\n",
        "  print(product)\n",
        "\n",
        "list = (-8, 0, 12441412)\n",
        "sorted_list = sorted(list)\n",
        "print(sorted_list)\n",
        "\n",
        "func8(-8, 0, 12441412)"
      ],
      "metadata": {
        "id": "Tcz-1a6RVJy2"
      },
      "execution_count": null,
      "outputs": []
    },
    {
      "cell_type": "code",
      "source": [
        "# more examples\n",
        "\n",
        "def func8(a, b, c = 42):\n",
        "  sum = a + b + c\n",
        "  print(sum)\n",
        "\n",
        "  product = a * b * c\n",
        "  print(product)\n",
        "\n",
        "list = (-123, 132421, 0)\n",
        "sorted_list = sorted(list)\n",
        "print(sorted_list)\n",
        "\n",
        "func8(-123, 132421, 0)"
      ],
      "metadata": {
        "id": "k8MFoCtIVRjm"
      },
      "execution_count": null,
      "outputs": []
    }
  ]
}