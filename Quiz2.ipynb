{
  "nbformat": 4,
  "nbformat_minor": 0,
  "metadata": {
    "colab": {
      "provenance": [],
      "authorship_tag": "ABX9TyNEcDCWMfiTz7DwKKtoW6FA",
      "include_colab_link": true
    },
    "kernelspec": {
      "name": "python3",
      "display_name": "Python 3"
    },
    "language_info": {
      "name": "python"
    }
  },
  "cells": [
    {
      "cell_type": "markdown",
      "metadata": {
        "id": "view-in-github",
        "colab_type": "text"
      },
      "source": [
        "<a href=\"https://colab.research.google.com/github/bradynp/CSC221_bprim002/blob/main/Quiz2.ipynb\" target=\"_parent\"><img src=\"https://colab.research.google.com/assets/colab-badge.svg\" alt=\"Open In Colab\"/></a>"
      ]
    },
    {
      "cell_type": "code",
      "source": [
        "# None\n",
        "\n",
        "my_variable = None\n",
        "\n",
        "if my_variable is None:\n",
        "    print(\"The variable has no value.\")\n",
        "\n",
        "# example 2\n",
        "def do_nothing():\n",
        "    pass\n",
        "result = do_nothing()\n",
        "if result is None:\n",
        "    print(\"The function returned None.\")"
      ],
      "metadata": {
        "collapsed": true,
        "id": "uTP6OEF2cNa6"
      },
      "execution_count": null,
      "outputs": []
    },
    {
      "cell_type": "code",
      "execution_count": null,
      "metadata": {
        "id": "4rfaKA_UboR0"
      },
      "outputs": [],
      "source": [
        "#break\n",
        "\n",
        "number = 0\n",
        "while True:\n",
        "    print(number)\n",
        "    number += 1\n",
        "    if number >= 5:\n",
        "        break  # exit loop if number is greater or equal to 5"
      ]
    },
    {
      "cell_type": "code",
      "source": [
        "# except\n",
        "try:\n",
        "    result = 10 / 0  # This will raise a ZeroDivisionError\n",
        "except ZeroDivisionError:\n",
        "    print(\"Error: Cannot divide by zero!\")"
      ],
      "metadata": {
        "id": "1cnE4_F4cFX9"
      },
      "execution_count": null,
      "outputs": []
    },
    {
      "cell_type": "code",
      "source": [
        "# in\n",
        "my_list = [1, 2, 3, 4, 5]\n",
        "print(3 in my_list)\n",
        "print(6 in my_list)\n",
        "\n",
        "# example 2\n",
        "\n",
        "my_dict = {'a': 1, 'b': 2, 'c': 3}\n",
        "print('a' in my_dict)\n",
        "print(1 in my_dict)\n",
        "print(2 in my_dict)"
      ],
      "metadata": {
        "id": "fhmMdOdqkVd_"
      },
      "execution_count": null,
      "outputs": []
    },
    {
      "cell_type": "code",
      "source": [
        "# raise\n",
        "\n",
        "def divide(x, y):\n",
        "    if y == 0:\n",
        "        raise ValueError(\"Division by zero is not allowed!\")\n",
        "    return x / y\n",
        "\n",
        "try:\n",
        "    result = divide(10, 0)\n",
        "except ValueError as e:\n",
        "    print(\"Error:\", e)"
      ],
      "metadata": {
        "id": "_5I1gEIskzQH"
      },
      "execution_count": null,
      "outputs": []
    },
    {
      "cell_type": "code",
      "source": [
        "# false\n",
        "\n",
        "is_raining = False\n",
        "\n",
        "if is_raining:\n",
        "    print(\"Don't forget your umbrella!\")\n",
        "else:\n",
        "    print(\"No need for an umbrella today.\")"
      ],
      "metadata": {
        "id": "xjY2C00slbmb"
      },
      "execution_count": null,
      "outputs": []
    },
    {
      "cell_type": "code",
      "source": [
        "# await\n",
        "\n",
        "import asyncio\n",
        "\n",
        "async def my_coroutine():\n",
        "    print(\"Coroutine is starting.\")\n",
        "    await asyncio.sleep(2)\n",
        "    print(\"Coroutine is finished.\")\n",
        "\n",
        "async def main():\n",
        "    print(\"Running the main function.\")\n",
        "    await my_coroutine()\n",
        "    print(\"Main function is done.\")\n",
        "\n",
        "asyncio.run(main())"
      ],
      "metadata": {
        "id": "T24m7RP_lbkg"
      },
      "execution_count": null,
      "outputs": []
    },
    {
      "cell_type": "code",
      "source": [
        "# else\n",
        "\n",
        "x = 5\n",
        "if x > 10:\n",
        "    print(\"x is greater than 10.\")\n",
        "else:\n",
        "    print(\"x is not greater than 10.\")"
      ],
      "metadata": {
        "id": "bftAwIcylbiJ"
      },
      "execution_count": null,
      "outputs": []
    },
    {
      "cell_type": "code",
      "source": [
        "# import\n",
        "\n",
        "import math\n",
        "\n",
        "print(math.sqrt(16))"
      ],
      "metadata": {
        "id": "3FCB4dgDlbfq"
      },
      "execution_count": null,
      "outputs": []
    },
    {
      "cell_type": "code",
      "source": [
        "# pass\n",
        "\n",
        "def my_function():\n",
        "    pass\n",
        "\n",
        "# example 2\n",
        "for i in range(5):\n",
        "    pass"
      ],
      "metadata": {
        "id": "VadrRGbAlbdc"
      },
      "execution_count": 5,
      "outputs": []
    },
    {
      "cell_type": "code",
      "source": [
        "# and\n",
        "\n",
        "x = 5\n",
        "if x > 0 and x < 10:\n",
        "    print(\"x is between 0 and 10.\")"
      ],
      "metadata": {
        "id": "FDBG8161lba-"
      },
      "execution_count": null,
      "outputs": []
    },
    {
      "cell_type": "code",
      "source": [
        "# continue\n",
        "\n",
        "for i in range(1, 6):\n",
        "    if i == 3:\n",
        "        continue\n",
        "    print(i)"
      ],
      "metadata": {
        "id": "dMJsNVMBlbYk"
      },
      "execution_count": null,
      "outputs": []
    },
    {
      "cell_type": "code",
      "source": [
        "# for\n",
        "\n",
        "fruits = [\"apple\", \"banana\", \"cherry\"]\n",
        "for fruit in fruits:\n",
        "    print(fruit)"
      ],
      "metadata": {
        "id": "EDRdcdXYlbV_"
      },
      "execution_count": null,
      "outputs": []
    },
    {
      "cell_type": "code",
      "source": [
        "# lambda\n",
        "\n",
        "add = lambda x, y: x + y\n",
        "print(add(2, 3))"
      ],
      "metadata": {
        "id": "T8kqygLolbT1"
      },
      "execution_count": null,
      "outputs": []
    },
    {
      "cell_type": "code",
      "source": [
        "# try\n",
        "\n",
        "try:\n",
        "    result = 10 / 0\n",
        "except ZeroDivisionError:\n",
        "    print(\"Error: Cannot divide by zero!\")"
      ],
      "metadata": {
        "id": "tzf3j5drlbRD"
      },
      "execution_count": null,
      "outputs": []
    },
    {
      "cell_type": "code",
      "source": [
        "# true\n",
        "\n",
        "is_sunny = True\n",
        "if is_sunny:\n",
        "    print(\"It's a sunny day!\")"
      ],
      "metadata": {
        "id": "tJyEIOJDlbNj"
      },
      "execution_count": null,
      "outputs": []
    },
    {
      "cell_type": "code",
      "source": [
        "# class\n",
        "\n",
        "class MyClass:\n",
        "    def __init__(self, name):\n",
        "        self.name = name\n",
        "\n",
        "    def greet(self):\n",
        "        print(\"Hello, my name is\", self.name)\n",
        "\n",
        "obj = MyClass(\"Alice\")\n",
        "obj.greet()"
      ],
      "metadata": {
        "id": "9RZJncqalbI-"
      },
      "execution_count": null,
      "outputs": []
    },
    {
      "cell_type": "code",
      "source": [
        "# finally\n",
        "\n",
        "try:\n",
        "    x = 10 / 0\n",
        "except ZeroDivisionError:\n",
        "    print(\"Error: Cannot divide by zero!\")\n",
        "finally:\n",
        "    print(\"This will always execute.\")"
      ],
      "metadata": {
        "id": "wJb-Gqy4lbGf"
      },
      "execution_count": null,
      "outputs": []
    },
    {
      "cell_type": "code",
      "source": [
        "# is\n",
        "\n",
        "x = [1, 2, 3]\n",
        "y = [1, 2, 3]\n",
        "print(x is y)"
      ],
      "metadata": {
        "id": "PzsI2kpjlbEZ"
      },
      "execution_count": null,
      "outputs": []
    },
    {
      "cell_type": "code",
      "source": [
        "# return\n",
        "\n",
        "def add(x, y):\n",
        "    return x + y\n",
        "\n",
        "result = add(3, 4)\n",
        "print(result)"
      ],
      "metadata": {
        "id": "k_lGqyh7lbB2"
      },
      "execution_count": null,
      "outputs": []
    },
    {
      "cell_type": "code",
      "source": [
        "# as\n",
        "\n",
        "import math as m\n",
        "print(m.sqrt(16))"
      ],
      "metadata": {
        "id": "umnqbsTDla_m"
      },
      "execution_count": null,
      "outputs": []
    },
    {
      "cell_type": "code",
      "source": [
        "# def\n",
        "\n",
        "def greet(name):\n",
        "    print(\"Hello,\", name)\n",
        "\n",
        "greet(\"Alice\")"
      ],
      "metadata": {
        "id": "RYxt9HpQla9d"
      },
      "execution_count": null,
      "outputs": []
    },
    {
      "cell_type": "code",
      "source": [
        "# from\n",
        "\n",
        "from math import sqrt\n",
        "print(sqrt(16))"
      ],
      "metadata": {
        "id": "4wvJ6MZ1la7G"
      },
      "execution_count": null,
      "outputs": []
    },
    {
      "cell_type": "code",
      "source": [
        "# nonlocal\n",
        "\n",
        "def outer():\n",
        "    x = 10\n",
        "    def inner():\n",
        "        nonlocal x\n",
        "        x += 1\n",
        "        print(x)\n",
        "    inner()\n",
        "\n",
        "outer()"
      ],
      "metadata": {
        "id": "fOd-UV6kla4n"
      },
      "execution_count": null,
      "outputs": []
    },
    {
      "cell_type": "code",
      "source": [
        "# while\n",
        "\n",
        "i = 1\n",
        "while i <= 5:\n",
        "    print(i)\n",
        "    i += 1"
      ],
      "metadata": {
        "id": "cn68Xnhala1T"
      },
      "execution_count": null,
      "outputs": []
    },
    {
      "cell_type": "code",
      "source": [
        "# async\n",
        "\n",
        "async def my_async_function():\n",
        "    await asyncio.sleep(1)\n",
        "    print(\"Async function executed.\")\n"
      ],
      "metadata": {
        "id": "ktXhAapqlayS"
      },
      "execution_count": 7,
      "outputs": []
    },
    {
      "cell_type": "code",
      "source": [
        "# elif\n",
        "\n",
        "x = 10\n",
        "if x > 10:\n",
        "    print(\"x is greater than 10.\")\n",
        "elif x < 10:\n",
        "    print(\"x is less than 10.\")\n",
        "else:\n",
        "    print(\"x is equal to 10.\")"
      ],
      "metadata": {
        "id": "wHs-yJ_YlasB"
      },
      "execution_count": null,
      "outputs": []
    },
    {
      "cell_type": "code",
      "source": [
        "# if\n",
        "\n",
        "x = 5\n",
        "if x > 0:\n",
        "    print(\"x is positive.\")"
      ],
      "metadata": {
        "id": "aaSSKIBalag5"
      },
      "execution_count": null,
      "outputs": []
    },
    {
      "cell_type": "code",
      "source": [
        "# not\n",
        "\n",
        "x = 5\n",
        "if not x == 0:\n",
        "    print(\"x is not equal to zero.\")"
      ],
      "metadata": {
        "id": "vPEzHHqkl5Wu"
      },
      "execution_count": null,
      "outputs": []
    },
    {
      "cell_type": "code",
      "source": [
        "# with\n",
        "\n",
        "with open(\"example.txt\", \"r\") as file:\n",
        "    content = file.read()\n",
        "    print(content)"
      ],
      "metadata": {
        "id": "mUdaglxSl5RZ"
      },
      "execution_count": null,
      "outputs": []
    },
    {
      "cell_type": "code",
      "source": [
        "# assert\n",
        "\n",
        "x = 5\n",
        "assert x == 5, \"x should be equal to 5\""
      ],
      "metadata": {
        "id": "CMvhMCFvl5MB"
      },
      "execution_count": null,
      "outputs": []
    },
    {
      "cell_type": "code",
      "source": [
        "# del\n",
        "\n",
        "x = 5\n",
        "del x"
      ],
      "metadata": {
        "id": "oWJoMJy-mAmp"
      },
      "execution_count": null,
      "outputs": []
    },
    {
      "cell_type": "code",
      "source": [
        "# global\n",
        "\n",
        "x = 5\n",
        "def my_function():\n",
        "    global x\n",
        "    x = 10\n",
        "\n",
        "my_function()\n",
        "print(x)"
      ],
      "metadata": {
        "id": "LtSaZGkImAbo"
      },
      "execution_count": null,
      "outputs": []
    },
    {
      "cell_type": "code",
      "source": [
        "# or\n",
        "\n",
        "x = 5\n",
        "if x == 5 or x == 10:\n",
        "    print(\"x is either 5 or 10.\")"
      ],
      "metadata": {
        "id": "asPYdxKemAVL"
      },
      "execution_count": null,
      "outputs": []
    },
    {
      "cell_type": "code",
      "source": [
        "# yield\n",
        "\n",
        "def generate_numbers():\n",
        "    for i in range(5):\n",
        "        yield i\n",
        "\n",
        "for num in generate_numbers():\n",
        "    print(num)"
      ],
      "metadata": {
        "id": "qY8TJZfNmANN"
      },
      "execution_count": null,
      "outputs": []
    }
  ]
}