{
  "nbformat": 4,
  "nbformat_minor": 0,
  "metadata": {
    "colab": {
      "provenance": [],
      "authorship_tag": "ABX9TyMJ/iJgvGGkeI2DDIKN9AXW",
      "include_colab_link": true
    },
    "kernelspec": {
      "name": "python3",
      "display_name": "Python 3"
    },
    "language_info": {
      "name": "python"
    }
  },
  "cells": [
    {
      "cell_type": "markdown",
      "metadata": {
        "id": "view-in-github",
        "colab_type": "text"
      },
      "source": [
        "<a href=\"https://colab.research.google.com/github/bradynp/CSC221_bprim002/blob/main/Assignment6.ipynb\" target=\"_parent\"><img src=\"https://colab.research.google.com/assets/colab-badge.svg\" alt=\"Open In Colab\"/></a>"
      ]
    },
    {
      "cell_type": "code",
      "execution_count": null,
      "metadata": {
        "id": "lfxd2XRcKob-"
      },
      "outputs": [],
      "source": [
        "# TIY 5-1\n",
        "\n",
        "name = 'Bradyn'\n",
        "print(\"Is name == 'Bradyn'? I predict True.\")\n",
        "print(name == 'Bradyn')\n",
        "print(\"Is name == 'Joy'? I predict False.\")\n",
        "print(name == 'Joy')\n",
        "\n",
        "age = '18'\n",
        "print(\"\\nIs age == '18'? I predict True.\")\n",
        "print(age == '18')\n",
        "print(\"Is age == '19'? I predict False.\")\n",
        "print(age == '19')\n",
        "\n",
        "sex = 'Male'\n",
        "print(\"\\nIs sex == 'Male'? I predict True.\")\n",
        "print(sex == 'Male')\n",
        "print(\"Is sex == 'Female'? I predict False.\")\n",
        "print(sex == 'Female')\n",
        "\n",
        "level = 'College'\n",
        "print(\"\\nIs level == 'College'? I predict True.\")\n",
        "print(level == 'College')\n",
        "print(\"Is level == 'High School'? I predict False.\")\n",
        "print(level == 'High School')\n",
        "\n",
        "height = 'Tall'\n",
        "print(\"\\nIs height == 'Tall'? I predict True.\")\n",
        "print(height == 'Tall')\n",
        "print(\"Is height == 'Short'? I predict False.\")\n",
        "print(height == 'Short')"
      ]
    },
    {
      "cell_type": "code",
      "source": [
        "# TIY 5-2\n",
        "\n",
        "test=\"equal\"\n",
        "print(test==\"equal\")\n",
        "print(test!=\"equal\")\n",
        "\n",
        "test=\"equal\"\n",
        "print(test.lower()==\"equal\")\n",
        "\n",
        "val=10\n",
        "print(val>10)\n",
        "print(val<10)\n",
        "print(val<=10)\n",
        "print(val>=10)\n",
        "\n",
        "val=10\n",
        "print(val==10)\n",
        "print(val!=10)\n",
        "if val<=8 and val>=10:\n",
        "    print(\" ..\")\n",
        "\n",
        "if val<=8 or val>=10:\n",
        "    print(\"---\")\n",
        "\n",
        "val=[23,24,56,3]\n",
        "23 in val\n",
        "\n",
        "23 not in val"
      ],
      "metadata": {
        "id": "Q1uDLuUdyxFY"
      },
      "execution_count": null,
      "outputs": []
    },
    {
      "cell_type": "code",
      "source": [
        "# TIY 5-3\n",
        "\n",
        "alien_color='green', 'yellow', 'red'\n",
        "if \"green\" in alien_color:\n",
        "    print(\"the player just earned 5 points\")"
      ],
      "metadata": {
        "id": "G9WMjA4k4R_e"
      },
      "execution_count": null,
      "outputs": []
    },
    {
      "cell_type": "code",
      "source": [
        "# TIY 5-6\n",
        "\n",
        "age=8\n",
        "if age <2:\n",
        "    print(\" the person is a baby\")\n",
        "elif age ==2:\n",
        "    print(\"the person is a toddler.\")\n",
        "elif age <4:\n",
        "    print(\"the person is a kid.\")\n",
        "elif age <13:\n",
        "    print(\"the person is a teenager.\")\n",
        "elif age <20:\n",
        "    print(\"the person is a adult.\")"
      ],
      "metadata": {
        "id": "chq9318z4hLA"
      },
      "execution_count": null,
      "outputs": []
    },
    {
      "cell_type": "code",
      "source": [
        "# TIY 5-12\n",
        "\n",
        "print('I styled them correctly')"
      ],
      "metadata": {
        "id": "knSiRkeF4qPH"
      },
      "execution_count": null,
      "outputs": []
    },
    {
      "cell_type": "code",
      "source": [
        "# TIY 5-13\n",
        "# Write a program that creates the price of a movie ticket based on system time and age\n",
        "\n",
        "base_price = 10\n",
        "adult_cost = 13\n",
        "import datetime\n",
        "import calendar\n",
        "import time\n",
        "current_time = datetime.datetime.today().weekday()\n",
        "current_hour = time.time()\n",
        "local_time = time.localtime(current_hour)\n",
        "hour = local_time.tm_hour\n",
        "age = eval(input(\"How old are you?\"))\n",
        "\n",
        "#weekends\n",
        "if datetime.datetime.today().weekday() > 4:\n",
        "    if age <= 13:\n",
        "        total = base_price\n",
        "    elif 13 < age < 65:\n",
        "        total = adult_cost\n",
        "    else:\n",
        "        total = base_price\n",
        "#weekdays\n",
        "elif datetime.datetime.today().weekday() <= 4 and hour < 17 :\n",
        "    if age <= 13:\n",
        "        total = base_price\n",
        "    elif 13 < age < 65:\n",
        "        total = base_price\n",
        "    else:\n",
        "        total = base_price\n",
        "else :\n",
        "    if age <= 13:\n",
        "        total = base_price\n",
        "    elif 13 < age < 65:\n",
        "        total = adult_cost\n",
        "    else:\n",
        "        total = base_price\n",
        "\n",
        "print(\"The total cost of your ticket is\", {total}, \"dollars.\")\n"
      ],
      "metadata": {
        "colab": {
          "base_uri": "https://localhost:8080/"
        },
        "id": "552fNj-05NZu",
        "outputId": "0f813b39-be03-47ee-99ef-41162ead85ab"
      },
      "execution_count": 3,
      "outputs": [
        {
          "output_type": "stream",
          "name": "stdout",
          "text": [
            "How old are you?13\n",
            "The total cost of your ticket is {10} dollars.\n"
          ]
        }
      ]
    }
  ]
}