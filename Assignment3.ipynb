{
  "nbformat": 4,
  "nbformat_minor": 0,
  "metadata": {
    "colab": {
      "provenance": [],
      "authorship_tag": "ABX9TyPHfkRx8WRznbxiFowEjde/",
      "include_colab_link": true
    },
    "kernelspec": {
      "name": "python3",
      "display_name": "Python 3"
    },
    "language_info": {
      "name": "python"
    }
  },
  "cells": [
    {
      "cell_type": "markdown",
      "metadata": {
        "id": "view-in-github",
        "colab_type": "text"
      },
      "source": [
        "<a href=\"https://colab.research.google.com/github/bradynp/CSC221_bprim002/blob/main/Assignment3.ipynb\" target=\"_parent\"><img src=\"https://colab.research.google.com/assets/colab-badge.svg\" alt=\"Open In Colab\"/></a>"
      ]
    },
    {
      "cell_type": "code",
      "execution_count": 4,
      "metadata": {
        "colab": {
          "base_uri": "https://localhost:8080/"
        },
        "id": "lTBS_igW1ew2",
        "outputId": "918e605b-84c4-4211-d1b0-3887b585434f"
      },
      "outputs": [
        {
          "output_type": "stream",
          "name": "stdout",
          "text": [
            "Bradyn is super cool.\n"
          ]
        }
      ],
      "source": [
        "# TIY 2-1\n",
        "\n",
        "msg = \"Bradyn is super cool.\"\n",
        "print(msg)"
      ]
    },
    {
      "cell_type": "code",
      "source": [
        "# TIY 2-2\n",
        "\n",
        "msg = \"Bradyn is super cool.\"\n",
        "print(msg)\n",
        "\n",
        "msg = \"He is also very handsome.\"\n",
        "print(msg)"
      ],
      "metadata": {
        "colab": {
          "base_uri": "https://localhost:8080/"
        },
        "id": "fkkNHl1A166J",
        "outputId": "bb841b0c-7e21-49ce-f928-afc1e18ff15c"
      },
      "execution_count": 5,
      "outputs": [
        {
          "output_type": "stream",
          "name": "stdout",
          "text": [
            "Bradyn is super cool.\n",
            "He is also very handsome.\n"
          ]
        }
      ]
    },
    {
      "cell_type": "code",
      "source": [
        "# TIY 2-3\n",
        "\n",
        "name = \"Bradyn\"\n",
        "msg = f\"Hello {name.title()}, would you like to learn some Python today?\"\n",
        "\n",
        "print(msg)"
      ],
      "metadata": {
        "colab": {
          "base_uri": "https://localhost:8080/"
        },
        "id": "UgJFFP1j2KAO",
        "outputId": "98ec3528-c9bf-41ef-e9c5-fbe77c10770d"
      },
      "execution_count": 6,
      "outputs": [
        {
          "output_type": "stream",
          "name": "stdout",
          "text": [
            "Hello Bradyn, would you like to learn some Python today?\n"
          ]
        }
      ]
    },
    {
      "cell_type": "code",
      "source": [
        "# TIY 2-4\n",
        "\n",
        "name = \"Bradyn\"\n",
        "\n",
        "print(name.lower())\n",
        "print(name.upper())\n",
        "print(name.title())"
      ],
      "metadata": {
        "colab": {
          "base_uri": "https://localhost:8080/"
        },
        "id": "8crSawMW2mV4",
        "outputId": "6ae4fa51-290e-481b-e095-4c219f56dc3c"
      },
      "execution_count": 7,
      "outputs": [
        {
          "output_type": "stream",
          "name": "stdout",
          "text": [
            "bradyn\n",
            "BRADYN\n",
            "Bradyn\n"
          ]
        }
      ]
    },
    {
      "cell_type": "code",
      "source": [
        "# TIY 2-5\n",
        "\n",
        "print('William Wallace once said, \"Every man dies')\n",
        "print('not every man truly lives.\"')"
      ],
      "metadata": {
        "colab": {
          "base_uri": "https://localhost:8080/"
        },
        "id": "J1Bo05t4Z0EI",
        "outputId": "7e5239d7-4c21-4f2c-e1b0-515712b724ed"
      },
      "execution_count": 8,
      "outputs": [
        {
          "output_type": "stream",
          "name": "stdout",
          "text": [
            "William Wallace once said, \"Every man dies\n",
            "not every man truly lives.\"\n"
          ]
        }
      ]
    },
    {
      "cell_type": "code",
      "source": [
        "# TIY 2-6\n",
        "\n",
        "famous_person = \"William Wallace\"\n",
        "\n",
        "message = f'{famous_person} once said, \"Every man dies not every man truly lives.\"'\n",
        "\n",
        "print(message)"
      ],
      "metadata": {
        "colab": {
          "base_uri": "https://localhost:8080/"
        },
        "id": "eObaWR3sbezw",
        "outputId": "28a49add-ad79-420d-ac4f-044ad46aa388"
      },
      "execution_count": 9,
      "outputs": [
        {
          "output_type": "stream",
          "name": "stdout",
          "text": [
            "William Wallace once said, \"Every man dies not every man truly lives.\"\n"
          ]
        }
      ]
    },
    {
      "cell_type": "code",
      "source": [
        "# TIY 2-7\n",
        "\n",
        "name = \"\\tBradyn Primus\\n\"\n",
        "\n",
        "print(\"Unmodified:\")\n",
        "print(name)\n",
        "\n",
        "print(\"\\nUsing lstrip():\")\n",
        "print(name.lstrip())\n",
        "\n",
        "print(\"\\nUsing rstrip():\")\n",
        "print(name.rstrip())\n",
        "\n",
        "print(\"\\nUsing strip():\")\n",
        "print(name.strip())"
      ],
      "metadata": {
        "colab": {
          "base_uri": "https://localhost:8080/"
        },
        "id": "5Q2Rm1kIbsRl",
        "outputId": "4ba804ea-bf34-44b2-9591-8e48519f3ee5"
      },
      "execution_count": 10,
      "outputs": [
        {
          "output_type": "stream",
          "name": "stdout",
          "text": [
            "Unmodified:\n",
            "\tBradyn Primus\n",
            "\n",
            "\n",
            "Using lstrip():\n",
            "Bradyn Primus\n",
            "\n",
            "\n",
            "Using rstrip():\n",
            "\tBradyn Primus\n",
            "\n",
            "Using strip():\n",
            "Bradyn Primus\n"
          ]
        }
      ]
    },
    {
      "cell_type": "code",
      "source": [
        "# TIY 2-8\n",
        "\n",
        "filename = 'python_notes.txt'\n",
        "simple_filename = filename.removesuffix('.txt')\n",
        "\n",
        "print(simple_filename)"
      ],
      "metadata": {
        "colab": {
          "base_uri": "https://localhost:8080/"
        },
        "id": "Wv-J4Y2Bb0nA",
        "outputId": "78173225-529b-4b35-c4ea-52bd7bd28e17"
      },
      "execution_count": 11,
      "outputs": [
        {
          "output_type": "stream",
          "name": "stdout",
          "text": [
            "python_notes\n"
          ]
        }
      ]
    },
    {
      "cell_type": "code",
      "source": [
        "# TIY 2-9\n",
        "\n",
        "print(5+3)\n",
        "print(8/1)\n",
        "print(8*1)\n",
        "print(11-3)"
      ],
      "metadata": {
        "colab": {
          "base_uri": "https://localhost:8080/"
        },
        "id": "xxh9OpyhcO4t",
        "outputId": "b0e09fe1-b502-4db1-ebad-5f53ab1d5295"
      },
      "execution_count": 12,
      "outputs": [
        {
          "output_type": "stream",
          "name": "stdout",
          "text": [
            "8\n",
            "8.0\n",
            "8\n",
            "8\n"
          ]
        }
      ]
    },
    {
      "cell_type": "code",
      "source": [
        "# TIY 2-10\n",
        "\n",
        "fav_num = 9\n",
        "msg = f\"My favorite number is {fav_num}.\"\n",
        "\n",
        "print(msg)"
      ],
      "metadata": {
        "colab": {
          "base_uri": "https://localhost:8080/"
        },
        "id": "P1S2klC5cizo",
        "outputId": "7d4b3b3a-1bbf-4925-af22-f2a7db753d6d"
      },
      "execution_count": 13,
      "outputs": [
        {
          "output_type": "stream",
          "name": "stdout",
          "text": [
            "My favorite number is 9.\n"
          ]
        }
      ]
    }
  ]
}