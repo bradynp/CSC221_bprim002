{
  "nbformat": 4,
  "nbformat_minor": 0,
  "metadata": {
    "colab": {
      "provenance": [],
      "authorship_tag": "ABX9TyNJv943T+FN6elZ4MwVxlsn",
      "include_colab_link": true
    },
    "kernelspec": {
      "name": "python3",
      "display_name": "Python 3"
    },
    "language_info": {
      "name": "python"
    }
  },
  "cells": [
    {
      "cell_type": "markdown",
      "metadata": {
        "id": "view-in-github",
        "colab_type": "text"
      },
      "source": [
        "<a href=\"https://colab.research.google.com/github/bradynp/CSC221_bprim002/blob/main/Assignment9-10.ipynb\" target=\"_parent\"><img src=\"https://colab.research.google.com/assets/colab-badge.svg\" alt=\"Open In Colab\"/></a>"
      ]
    },
    {
      "cell_type": "markdown",
      "source": [
        "This function will take any text as an input and say hello world."
      ],
      "metadata": {
        "id": "HE3I2QcqFl75"
      }
    },
    {
      "cell_type": "code",
      "source": [
        "def process_text(input_text):\n",
        "    print(\"Input text:\", input_text)\n",
        "\n",
        "# Example usage:\n",
        "text_input = \"Hello, world!\"\n",
        "process_text(text_input)"
      ],
      "metadata": {
        "id": "SEl_PHGTG8Ay"
      },
      "execution_count": null,
      "outputs": []
    },
    {
      "cell_type": "markdown",
      "source": [
        "This function will take a variable number of arguments as an input. The function will take any amount of numbers and add them together."
      ],
      "metadata": {
        "id": "vmD3Ha2yJJ9G"
      }
    },
    {
      "cell_type": "code",
      "source": [
        "def add(*numbers):\n",
        "    total = 0\n",
        "    for num in numbers:\n",
        "        total += num\n",
        "    return total\n",
        "\"\"\"\n",
        "    Add up the variable integer numbers in the provided list.\n",
        "    Parameters\n",
        "    ----------\n",
        "    *numbers : var\n",
        "        Variable of arguments (numbers to add)\n",
        "    Returns\n",
        "    -------\n",
        "    total\n",
        "        The sum of all numbers in num.\n",
        "\n",
        "    \"\"\"\n",
        "print(add(5, 12))\n",
        "print(add(32141, 21, 214))\n",
        "print(add(12, 12, 5, 5))\n",
        "print(add(12, 13, 15, 17, 19))"
      ],
      "metadata": {
        "id": "P2IieaU_JV62"
      },
      "execution_count": null,
      "outputs": []
    },
    {
      "cell_type": "code",
      "source": [
        "def add(*numbers):\n",
        "    total = 0\n",
        "    for num in numbers:\n",
        "        total += num\n",
        "    return total\n",
        "\n",
        "print(add(0))\n",
        "print(add(12, -12, 0))\n",
        "print(add(14, -12, -5, -1))\n",
        "print(add(0, -13, -15, 0, 19))"
      ],
      "metadata": {
        "id": "n9FuHsGGK2Qg"
      },
      "execution_count": null,
      "outputs": []
    },
    {
      "cell_type": "markdown",
      "source": [
        "This function will return multiple different messages with two variables, size and message, for a flag."
      ],
      "metadata": {
        "id": "vWLTvEANLE1L"
      }
    },
    {
      "cell_type": "code",
      "source": [
        "def flag(size='large', message='Keep Calm And Carry On'):\n",
        "   print(f\"\\n My {size} flag says {message}.\")\n",
        "\"\"\"\n",
        "    Use function to get two variables and outcomes.\n",
        "    Parameters\n",
        "    ----------\n",
        "    size : var\n",
        "    message : var\n",
        "\n",
        "    Returns\n",
        "    -------\n",
        "    size and message,\n",
        "        Prints any value combination with variables for function,\n",
        "        unless there is no input for a variable and automatic variable values will be input.\n",
        "\n",
        "    \"\"\"\n",
        "\n",
        "flag()\n",
        "flag(size='medium')\n",
        "flag(size='large', message= 'New York Knicks')\n",
        "flag('small', 'Rocky Balboa')"
      ],
      "metadata": {
        "id": "51CL_RisLUsk"
      },
      "execution_count": null,
      "outputs": []
    },
    {
      "cell_type": "code",
      "source": [
        "def flag(size='XXXL', message='Magic Is Not Real'):\n",
        "   print(f\"\\n My {size} flag says {message}.\")\n",
        "\n",
        "flag()\n",
        "flag(size='Super Small')\n",
        "flag(size='X-Large', message= 'Los Angeles Is Overrated')\n",
        "flag('Medium', 'Python Is Python')"
      ],
      "metadata": {
        "id": "RYQjHt9JMy5t"
      },
      "execution_count": null,
      "outputs": []
    },
    {
      "cell_type": "markdown",
      "source": [
        "This function will take a dictionary of names and grades and sort it alphabetically by names and then sort it by grades from highest to lowest:"
      ],
      "metadata": {
        "id": "2AtdSFlKNVLV"
      }
    },
    {
      "cell_type": "code",
      "source": [
        "def sort_dict_by_name(grades_dict):\n",
        "    sorted_dict = dict(sorted(grades_dict.items()))\n",
        "    return sorted_dict\n",
        "\n",
        "def sort_dict_by_grade(grades_dict):\n",
        "    sorted_dict = dict(sorted(grades_dict.items(), key=lambda item: item[1], reverse=True))\n",
        "    return sorted_dict\n",
        "\n",
        "grades_dict = {\n",
        "    \"kevin\": 91,\n",
        "    \"ayush\": 94,\n",
        "    \"bob\": 97,\n",
        "    \"amy\": 89,\n",
        "    \"ankita\": 97,\n",
        "    \"ned\": 79,\n",
        "    \"timmy\": 82\n",
        "}\n",
        "# sort by name\n",
        "sorted_by_name = sort_dict_by_name(grades_dict)\n",
        "print(\"Sorted by name:\")\n",
        "for name, grade in sorted_by_name.items():\n",
        "    print(f\"{name}: {grade}\")\n",
        "\n",
        "# sort by grade\n",
        "sorted_by_grade = sort_dict_by_grade(grades_dict)\n",
        "print(\"\\nSorted by grade:\")\n",
        "for name, grade in sorted_by_grade.items():\n",
        "    print(f\"{name}: {grade}\")"
      ],
      "metadata": {
        "id": "fO_-XV-yNicO"
      },
      "execution_count": null,
      "outputs": []
    },
    {
      "cell_type": "code",
      "source": [
        "def sort_dict_by_name(grades_dict):\n",
        "    sorted_dict = dict(sorted(grades_dict.items()))\n",
        "    return sorted_dict\n",
        "\n",
        "def sort_dict_by_grade(grades_dict):\n",
        "    sorted_dict = dict(sorted(grades_dict.items(), key=lambda item: item[1], reverse=True))\n",
        "    return sorted_dict\n",
        "\n",
        "grades_dict = {\n",
        "    \"josh\": 88,\n",
        "    \"bradyn\": 75,\n",
        "    \"anya\": 54,\n",
        "    \"ned\": 93,\n",
        "    \"kelly\": 100,\n",
        "    \"mike\": 12,\n",
        "    \"hitaki\": 0\n",
        "}\n",
        "\n",
        "# sort by name\n",
        "sorted_by_name = sort_dict_by_name(grades_dict)\n",
        "print(\"Sorted by name:\")\n",
        "for name, grade in sorted_by_name.items():\n",
        "    print(f\"{name}: {grade}\")\n",
        "\n",
        "# sort by grade\n",
        "sorted_by_grade = sort_dict_by_grade(grades_dict)\n",
        "print(\"\\nSorted by grade:\")\n",
        "for name, grade in sorted_by_grade.items():\n",
        "    print(f\"{name}: {grade}\")"
      ],
      "metadata": {
        "id": "l_Km9luJOl2a"
      },
      "execution_count": null,
      "outputs": []
    },
    {
      "cell_type": "markdown",
      "source": [
        "This function takes a word as input and returns its definition if it exists in the dictionary, otherwise it returns a message indicating that the definition is not found"
      ],
      "metadata": {
        "id": "95_wWXRxooIX"
      }
    },
    {
      "cell_type": "code",
      "source": [
        "def get_definition(word):\n",
        "    # dictionary\n",
        "    word_definitions = {\n",
        "        \"apple\": \"A round fruit with red or green skin and a whitish interior.\",\n",
        "        \"banana\": \"An elongated curved fruit with a yellow skin.\",\n",
        "        \"orange\": \"A round citrus fruit with a tough bright reddish-yellow rind.\"\n",
        "    }\n",
        "\n",
        "    # Check if word exists in dictionary\n",
        "    if word in word_definitions:\n",
        "        return word_definitions[word]\n",
        "    else:\n",
        "        return \"Definition not found for '{}'.\".format(word)\n",
        "\n",
        "word_to_define = \"apple\"\n",
        "definition = get_definition(word_to_define)\n",
        "print(\"Definition of '{}': {}\".format(word_to_define, definition))"
      ],
      "metadata": {
        "id": "7-yWbT3ephu-",
        "outputId": "e2e55a8d-4d13-44ca-9d17-133a115a6d77",
        "colab": {
          "base_uri": "https://localhost:8080/"
        }
      },
      "execution_count": 4,
      "outputs": [
        {
          "output_type": "stream",
          "name": "stdout",
          "text": [
            "Definition of 'apple': A round fruit with red or green skin and a whitish interior.\n"
          ]
        }
      ]
    },
    {
      "cell_type": "markdown",
      "source": [
        "This function will solve a puzzle by guessing and checking. This will guess a number 1-10 using functions."
      ],
      "metadata": {
        "id": "NvKuEaDl9FLa"
      }
    },
    {
      "cell_type": "code",
      "source": [
        "#Imports\n",
        "import random\n",
        "\n",
        "#Global Variables\n",
        "number = 0\n",
        "game_done = False\n",
        "\n",
        "#Function definitions\n",
        "def set_number(num):\n",
        "    '''Sets the number to be guessed. Takes the new number as the arg. Returns nothing.'''\n",
        "    global number\n",
        "    number = int(num)\n",
        "\n",
        "def get_number():\n",
        "    '''Gets the number to be guessed. No args, returns the number.'''\n",
        "    set_number(random.randrange(0,10))\n",
        "\n",
        "def set_game_done(done):\n",
        "    '''Sets whether or not the game is done. Takes the new status as the arg (True or False). Returns nothing.'''\n",
        "    global game_done\n",
        "    game_done = done\n",
        "\n",
        "\n",
        "def get_game_done(state):\n",
        "    '''Gets whether or not the game is done. Returns true or false.'''\n",
        "    set_game_done(state)\n",
        "\n",
        "def get_guess():\n",
        "    '''Gets a guess from the user via input(). Returns the guess as an integer. Should not crash or return until a valid guess is given'''\n",
        "    temp = input(\"Guess a number between 1 and 10: \")\n",
        "    while(temp.isnumeric() != True):\n",
        "        temp = input(\"Please only input a NUMBER between 1 and 10: \")\n",
        "    guess = int(temp)\n",
        "    check_guess(guess)\n",
        "\n",
        "#Use 'constants' instead of the magic numbers -1, 1, and 0 in your code\n",
        "def check_guess(guess):\n",
        "    '''Checks the given guess vs. the number. Returns -1 if the guess is too low, 1 if the guess is too high, and 0 if it is correct'''\n",
        "    if(guess > number):\n",
        "        print_feedback(1)\n",
        "    elif(guess < number):\n",
        "        print_feedback(-1)\n",
        "    else:\n",
        "        print_feedback(0)\n",
        "\n",
        "def print_feedback(feedback_code):\n",
        "    '''Prints feedback corresponding to the given code (-1: too low, 1: too high, 0: correct)'''\n",
        "    if(feedback_code == 0):\n",
        "        print('Nice! You got it right!\\n')\n",
        "        get_game_done(True)\n",
        "    elif(feedback_code == 1):\n",
        "        print(\"Too high try again!\\n\")\n",
        "        get_game_done(False)\n",
        "    else:\n",
        "        print(\"Too low try again!\\n\")\n",
        "        get_game_done(False)\n",
        "\n",
        "\n",
        "def play_game():\n",
        "    '''Plays the guessing game over the terminal.'''\n",
        "    get_guess()\n",
        "    if(game_done == False):\n",
        "        play_game()\n",
        "# Code\n",
        "#Plays the game iff this file was run directly.\n",
        "if __name__ == \"__main__\":\n",
        "    get_number()\n",
        "    play_game()"
      ],
      "metadata": {
        "id": "9pkpm8ni9y1W"
      },
      "execution_count": null,
      "outputs": []
    },
    {
      "cell_type": "markdown",
      "source": [
        "This math function will quiz the user on their math skills."
      ],
      "metadata": {
        "id": "L5lpOi7Y-HrM"
      }
    },
    {
      "cell_type": "code",
      "source": [
        "import random\n",
        "import operator\n",
        "\n",
        "def random_problem():\n",
        "  operators = {\n",
        "      '+': operator.add,\n",
        "      '-': operator.sub,\n",
        "      '*': operator.mul,\n",
        "      \"/\": operator.truediv,\n",
        "  }\n",
        "  num_1 = random.randint(1, 10)\n",
        "  num_2 = random.randint(1,10)\n",
        "\n",
        "  operation = random.choice(list(operators.keys()))\n",
        "  answer = operators.get(operation)(num_1, num_2)\n",
        "  print(f'What is{num_1}{operator}{num_2}')\n",
        "  return answer\n",
        "\n",
        "\n",
        "def ask_question():\n",
        "  answer = int(random_problem())\n",
        "  guess = float(input('Enter your answer: '))\n",
        "  return guess == answer\n",
        "\n",
        "def game():\n",
        "  score = 0\n",
        "  while True:\n",
        "    if ask_question() == True:\n",
        "      score += 1\n",
        "      print('Correct!')\n",
        "    else:\n",
        "      print('Incorrect!')\n",
        "      break\n",
        "  print(f'======Game Over======\\nYour score is {score}\\nKeep Going!')\n",
        "\n",
        "game()"
      ],
      "metadata": {
        "id": "193ooETCAkIM"
      },
      "execution_count": null,
      "outputs": []
    },
    {
      "cell_type": "markdown",
      "source": [
        "This function for the svt formula in physics:\n",
        "displacement(s), velocity(v), time(t)\n",
        "\n"
      ],
      "metadata": {
        "id": "TFsRMkjVTmTP"
      }
    },
    {
      "cell_type": "code",
      "source": [
        "def fillInSvt(s = None, v = None, t = None):\n",
        "    # count the unknowns\n",
        "\n",
        "    noneCount = sum(x is None for x in [s, v, t])\n",
        "    if noneCount > 1: return [None, None, None]\n",
        "\n",
        "    # solve for single unknown or adjust s if none.\n",
        "\n",
        "    if noneCount == 0 or s is None: return [v*t, v, t]\n",
        "    if v is None: return [s, s/t, t]\n",
        "    return [s, v, s/v]\n",
        "\n",
        "# as long as two values are present the output will not be none.\n",
        "# if all three are given, the displacement is adjusted so that the equation 's = vt' is correct.\n",
        "print(fillInSvt(99,4,6))\n",
        "\n",
        "print(fillInSvt(24,4,None))\n",
        "\n",
        "print(fillInSvt(24,None,None))"
      ],
      "metadata": {
        "id": "N_DfuKhDjtuh"
      },
      "execution_count": null,
      "outputs": []
    },
    {
      "cell_type": "code",
      "source": [
        "def fillInSvt(s = None, v = None, t = None):\n",
        "\n",
        "    noneCount = sum(x is None for x in [s, v, t])\n",
        "    if noneCount > 1: return [None, None, None]\n",
        "\n",
        "    if noneCount == 0 or s is None: return [v*t, v, t]\n",
        "    if v is None: return [s, s/t, t]\n",
        "    return [s, v, s/v]\n",
        "\n",
        "print(fillInSvt(99,4,6))\n",
        "print(fillInSvt(None,4,6))\n",
        "print(fillInSvt(24,None,6))\n",
        "print(fillInSvt(24,4,None))\n",
        "\n",
        "print(fillInSvt(24,None,None))\n",
        "print(fillInSvt(None,4,None))\n",
        "print(fillInSvt(None,None,6))\n",
        "print(fillInSvt(None,None,None))"
      ],
      "metadata": {
        "id": "zxLK91Q0kr00"
      },
      "execution_count": null,
      "outputs": []
    },
    {
      "cell_type": "markdown",
      "source": [
        "This function will create a conversion calculator for imperial or metric measures of weight or length."
      ],
      "metadata": {
        "id": "xqmVP7TBk5Og"
      }
    },
    {
      "cell_type": "code",
      "source": [
        "#created the menus for the length\n",
        "metric_length=[\"'km', 'm' , 'cm'\"]\n",
        "imperial_length=[\"'mi', 'ft', 'in'\"]\n",
        "\n",
        " #This defines variables from metric to imperial measurements of distance\n",
        "def km_mi():\n",
        "     print(leng1/1.6, \"miles\")\n",
        "def m_ft():\n",
        "     print(leng1*3.26, \"feet\")\n",
        "def cm_in():\n",
        "     print(leng1/2.54, \"inches\")\n",
        "\n",
        " #This list defines variables from imperial to metric measurements of distance\n",
        "def mi_km():\n",
        "     print(leng2*1.6, \"kilometers\")\n",
        "def ft_m():\n",
        "     print(leng2/3.26, \"metres\")\n",
        "def in_cm():\n",
        "     print(leng2*2.54, \"centimetres\")\n",
        "\n",
        " #menu for weights\n",
        "metric_mass=[\"'t','kg', 'g'\"]\n",
        "imperial_mass=[\"'stone', 'lb', 'oz'\"]\n",
        "\n",
        " #this defines variables from metric to imperial in mass\n",
        "def t_st():\n",
        "     print(mass1*157.47, \"stone\")\n",
        "def kg_lb():\n",
        "     print(mass1*2.2, \"pounds\")\n",
        "def g_oz():\n",
        "     print(mass1*0.035, \"ounces\")\n",
        " #this defines variables from imperial to metric in mass\n",
        "def st_t():\n",
        "     print(mass2*0.00635, \"tones\")\n",
        "def lb_kg():\n",
        "     print(mass2*0.4536, \"kilograms\")\n",
        "def oz_g():\n",
        "     print(mass2*28.35, \"grams\")\n",
        "\n",
        "\n",
        " #creates startup menu\n",
        "menu_type=[\"'Length-1', 'Weight-2'\"]\n",
        "\n",
        " #choose which to convert\n",
        "print(menu_type)\n",
        "measure=int(input(\"Please select what you would like to convert by typing a number:\"))\n",
        "\n",
        "if measure==1:\n",
        "     #menu to chose from either metric to imperial or vice-versa\n",
        "     print(\"Metric-Imperial - 1\\n\")\n",
        "     print(\"Imperial-Metric - 2\\n\")\n",
        "     choice=int(input(\"Choose a conversion by typing a number: \"))\n",
        "     #If 1 is chosen follows by asking what metric distance to convert\n",
        "     if choice== 1:\n",
        "         print(\"Please choose the measurement you want to use.\\n\")\n",
        "         #prints the metric length menu\n",
        "         print(metric_length)\n",
        "         distance =input(\"Type an option from the menu: \")\n",
        "\n",
        "         #if statements that takes user input to assign a value for length\n",
        "         if distance==\"km\":\n",
        "             leng1=int(input(\"Please enter a number to convert: \"))\n",
        "             print=(km_mi())\n",
        "         elif distance==\"m\":\n",
        "             leng1=int(input(\"Please enter a number to convert: \"))\n",
        "             print=(m_ft())\n",
        "         elif distance==\"cm\":\n",
        "             leng1=int(input(\"Please enter a number to convert: \"))\n",
        "             print=(cm_in())\n",
        "         else:\n",
        "             print(\"Invalid Entry\")\n",
        "\n",
        "     #If 2 is chosen follows by asking what imperial distance to convert\n",
        "     if choice== 2:\n",
        "         print(\"Please choose the measurement you want to use.\\n\")\n",
        "         #prints the imperial length menu\n",
        "         print(imperial_length)\n",
        "         distance2 =input(\"Type an option from the menu: \")\n",
        "\n",
        "         #if statements that takes user input to assign a value for length\n",
        "         if distance2==\"mi\":\n",
        "             leng2=int(input(\"Please enter a number to convert: \"))\n",
        "             print=(mi_km())\n",
        "         elif distance2==\"ft\":\n",
        "             leng2=int(input(\"Please enter a number to convert: \"))\n",
        "             print=(ft_m())\n",
        "         elif distance2==\"in\":\n",
        "             leng2=int(input(\"Please enter a number to convert: \"))\n",
        "             print=(in_cm())\n",
        "         else:\n",
        "             print(\"Invalid Entry\")\n",
        "\n",
        "if measure==2:\n",
        "     #menu to chose from either metric to imperial or vice-versa\n",
        "     print(\"Metric-Imperial - 1\\n\")\n",
        "     print(\"Imperial-Metric - 2\\n\")\n",
        "     choice2=int(input(\"Choose a conversion by typing a number: \"))\n",
        "     #If 1 is chosen follows by asking what metric distance to convert\n",
        "     if choice2== 1:\n",
        "         print(\"Please choose the measurement you want to use.\\n\")\n",
        "         #prints the metric length menu\n",
        "         print(metric_mass)\n",
        "         weight =input(\"Type an option from the menu: \")\n",
        "\n",
        "         #if statements that takes user input to assign a value for mass\n",
        "         if weight==\"t\":\n",
        "             mass1=int(input(\"Please enter a number to convert: \"))\n",
        "             print=(t_st())\n",
        "         elif weight==\"kg\":\n",
        "             mass1=int(input(\"Please enter a number to convert: \"))\n",
        "             print=(kg_lb())\n",
        "         elif weight==\"g\":\n",
        "             mass1=int(input(\"Please enter a number to convert: \"))\n",
        "             print=(g_oz())\n",
        "         else:\n",
        "             print(\"Invalid Entry\")\n",
        "\n",
        "     #If 2 is chosen asks what imperial mass to convert\n",
        "     if choice2== 2:\n",
        "         print(\"Please choose the measurement you want to use.\\n\")\n",
        "         #prints the imperial length menu\n",
        "         print(imperial_mass)\n",
        "         weight2 =input(\"Type an option from the menu: \")\n",
        "\n",
        "         #if statements that takes user input to assign a value for mass\n",
        "         if weight2==\"stone\":\n",
        "             mass2=int(input(\"Please enter a number to convert: \"))\n",
        "             print=(st_t())\n",
        "         elif weight2==\"lb\":\n",
        "             mass2=int(input(\"Please enter a number to convert: \"))\n",
        "             print=(lb_kg())\n",
        "         elif weight2==\"oz\":\n",
        "             mass2=int(input(\"Please enter a number to convert: \"))\n",
        "             print=(oz_g())\n",
        "         else:\n",
        "             print(\"Invalid Entry\")\n",
        "else:\n",
        "    print(\"Pick either 1 or 2.\")\n",
        "    quit()"
      ],
      "metadata": {
        "id": "EFhomhhYqsq9"
      },
      "execution_count": null,
      "outputs": []
    },
    {
      "cell_type": "markdown",
      "source": [
        "This function will create a game of rock, paper, scissors between the user and the computer"
      ],
      "metadata": {
        "id": "_R_frIfhrkW7"
      }
    },
    {
      "cell_type": "code",
      "source": [
        "import random\n",
        "print('Winning rules of the game ROCK PAPER SCISSORS are :\\n'\n",
        "      + \"Rock vs Paper -> Paper wins \\n\"\n",
        "      + \"Rock vs Scissors -> Rock wins \\n\"\n",
        "      + \"Paper vs Scissors -> Scissor wins \\n\")\n",
        "\n",
        "while True:\n",
        "\n",
        "    print(\"Enter your choice \\n 1 - Rock \\n 2 - Paper \\n 3 - Scissors \\n\")\n",
        "\n",
        "    # take the input from user\n",
        "\n",
        "    choice=int(input(\"Enter your choice :\"))\n",
        "    # if any one of the conditions is true then it returns true value\n",
        "\n",
        "    # looping until user enter invalid input\n",
        "    while choice > 3 or choice <1:\n",
        "      choice=int(input('Enter a valid choice please ☺'))\n",
        "\n",
        "    # corresponding to the choice value\n",
        "    if choice == 1:\n",
        "        choice_name= 'Rock'\n",
        "    elif choice == 2:\n",
        "        choice_name= 'Paper'\n",
        "    else:\n",
        "        choice_name= 'Scissors'\n",
        "\n",
        "        # print user choice\n",
        "    print('User choice is \\n',choice_name)\n",
        "    print('Now its Computers Turn....')\n",
        "\n",
        "    # Computer chooses randomly any number among 1 , 2 and 3.\n",
        "    comp_choice = random.randint(1,3)\n",
        "\n",
        "    # looping until comp_choice value is equal to the choice value\n",
        "    while comp_choice == choice:\n",
        "        comp_choice = random.randint(1,3)\n",
        "\n",
        "    if comp_choice == 1:\n",
        "        comp_choice_name = 'rocK'\n",
        "    elif comp_choice == 2:\n",
        "        comp_choice_name = 'papeR'\n",
        "    else:\n",
        "        comp_choice_name = 'scissoR'\n",
        "    print(\"Computer choice is \\n\", comp_choice_name)\n",
        "    print(choice_name,'Vs',comp_choice_name)\n",
        "    # we need to check of a draw\n",
        "    if choice == comp_choice:\n",
        "        print('Its a Draw',end=\"\")\n",
        "        result=\"DRAW\"\n",
        "    # condition for winning\n",
        "    if (choice==1 and comp_choice==2):\n",
        "        print('paper wins =>',end=\"\")\n",
        "        result='papeR'\n",
        "    elif (choice==2 and comp_choice==1):\n",
        "        print('paper wins =>',end=\"\")\n",
        "        result='Paper'\n",
        "\n",
        "\n",
        "    if (choice==1 and comp_choice==3):\n",
        "        print('Rock wins =>\\n',end= \"\")\n",
        "        result='Rock'\n",
        "    elif (choice==3 and comp_choice==1):\n",
        "        print('Rock wins =>\\n',end= \"\")\n",
        "        result='rocK'\n",
        "\n",
        "    if (choice==2 and comp_choice==3):\n",
        "        print('Scissors wins =>',end=\"\")\n",
        "        result='scissoR'\n",
        "    elif (choice==3 and comp_choice==2):\n",
        "        print('Scissors wins =>',end=\"\")\n",
        "        result='Rock'\n",
        "     # Printing either user or computer wins or draw\n",
        "    if result == 'DRAW':\n",
        "        print(\"<== Its a tie ==>\")\n",
        "    if result == choice_name:\n",
        "        print(\"<== User wins ==>\")\n",
        "    else:\n",
        "        print(\"<== Computer wins ==>\")\n",
        "    print(\"Do you want to play again? (Y/N)\")\n",
        "    # if user input n or N then condition is True\n",
        "    ans = input().lower()\n",
        "    if ans =='n':\n",
        "        break\n",
        "\n",
        "print(\"thanks for playing\")"
      ],
      "metadata": {
        "id": "9tDfo0pat7Nh"
      },
      "execution_count": null,
      "outputs": []
    }
  ]
}