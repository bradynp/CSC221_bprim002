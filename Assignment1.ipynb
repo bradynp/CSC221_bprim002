{
  "nbformat": 4,
  "nbformat_minor": 0,
  "metadata": {
    "colab": {
      "provenance": [],
      "authorship_tag": "ABX9TyNNSyuwxc/L7Q3MEj6wsnCa",
      "include_colab_link": true
    },
    "kernelspec": {
      "name": "python3",
      "display_name": "Python 3"
    },
    "language_info": {
      "name": "python"
    }
  },
  "cells": [
    {
      "cell_type": "markdown",
      "metadata": {
        "id": "view-in-github",
        "colab_type": "text"
      },
      "source": [
        "<a href=\"https://colab.research.google.com/github/bradynp/CSC221_bprim002/blob/main/Assignment1.ipynb\" target=\"_parent\"><img src=\"https://colab.research.google.com/assets/colab-badge.svg\" alt=\"Open In Colab\"/></a>"
      ]
    },
    {
      "cell_type": "code",
      "execution_count": 6,
      "metadata": {
        "colab": {
          "base_uri": "https://localhost:8080/"
        },
        "outputId": "465a19fa-e03a-4b44-fdb1-88e1ddd35f23",
        "id": "LRxMsBDCNnua"
      },
      "outputs": [
        {
          "output_type": "stream",
          "name": "stdout",
          "text": [
            "13 12.21 25.21\n"
          ]
        }
      ],
      "source": [
        "a = 13\n",
        "b = 12.21\n",
        "total = a + b\n",
        "print(a, b, a+b)\n"
      ]
    },
    {
      "cell_type": "code",
      "execution_count": 4,
      "metadata": {
        "colab": {
          "base_uri": "https://localhost:8080/"
        },
        "outputId": "47eb55e2-2255-45e8-b26c-7f26b1b1503d",
        "id": "-3xjuKATNn84"
      },
      "outputs": [
        {
          "output_type": "stream",
          "name": "stdout",
          "text": [
            "13 12.21 25.21\n"
          ]
        }
      ],
      "source": [
        "a = 13\n",
        "b = 12.21\n",
        "total = a + b\n",
        "print(a, b, a+b)\n"
      ]
    },
    {
      "cell_type": "code",
      "execution_count": 3,
      "metadata": {
        "colab": {
          "base_uri": "https://localhost:8080/"
        },
        "id": "rUwcWBwaMpZ1",
        "outputId": "f6a3844f-602f-4131-ada6-c4a8d9a6a3d3"
      },
      "outputs": [
        {
          "output_type": "stream",
          "name": "stdout",
          "text": [
            "13 12.21 25.21\n"
          ]
        }
      ],
      "source": [
        "a = 13\n",
        "b = 12.21\n",
        "total = a + b\n",
        "print(a, b, a+b)\n"
      ]
    }
  ]
}