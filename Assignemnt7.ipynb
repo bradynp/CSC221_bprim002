{
  "nbformat": 4,
  "nbformat_minor": 0,
  "metadata": {
    "colab": {
      "provenance": [],
      "authorship_tag": "ABX9TyPhtcVqRe3VupaszECEhM/4",
      "include_colab_link": true
    },
    "kernelspec": {
      "name": "python3",
      "display_name": "Python 3"
    },
    "language_info": {
      "name": "python"
    }
  },
  "cells": [
    {
      "cell_type": "markdown",
      "metadata": {
        "id": "view-in-github",
        "colab_type": "text"
      },
      "source": [
        "<a href=\"https://colab.research.google.com/github/bradynp/CSC221_bprim002/blob/main/Assignemnt7.ipynb\" target=\"_parent\"><img src=\"https://colab.research.google.com/assets/colab-badge.svg\" alt=\"Open In Colab\"/></a>"
      ]
    },
    {
      "cell_type": "code",
      "execution_count": null,
      "metadata": {
        "id": "WOW4RsuwD62R"
      },
      "outputs": [],
      "source": [
        "#TIY 6-1\n",
        "\n",
        "Tyler = {'first_name': 'Tyler',\n",
        "         'last_name': 'Kropp',\n",
        "         'age': '18',\n",
        "         'city': 'Goshen',\n",
        "         }\n",
        "\n",
        "print(Tyler['first_name'])\n",
        "print(Tyler['last_name'])\n",
        "print(Tyler['age'])\n",
        "print(Tyler['city'])"
      ]
    },
    {
      "cell_type": "code",
      "source": [
        "#TIY 6-2\n",
        "\n",
        "favorite_number = {\n",
        " 'Tyler': '7',\n",
        " 'Amari': '99',\n",
        " 'Connor': '1',\n",
        " 'Zaheer': '13',\n",
        " 'Markell': '8',\n",
        " }\n",
        "\n",
        "number = favorite_number['Tyler'].title()\n",
        "print(f\"Tyler's favorite number is {number}.\")\n",
        "\n",
        "number = favorite_number['Amari'].title()\n",
        "print(f\"Amari's favorite number is {number}.\")\n",
        "\n",
        "number = favorite_number['Connor'].title()\n",
        "print(f\"Connor's favorite number is {number}.\")\n",
        "\n",
        "number = favorite_number['Zaheer'].title()\n",
        "print(f\"Zaheer's favorite number is {number}.\")\n",
        "\n",
        "number = favorite_number['Markell'].title()\n",
        "print(f\"Markell's favorite number is {number}.\")"
      ],
      "metadata": {
        "id": "Tqa5bBu5Foqc"
      },
      "execution_count": null,
      "outputs": []
    },
    {
      "cell_type": "code",
      "source": [
        "#TIY 6-3\n",
        "\n",
        "\n",
        "\n",
        "glossary = {\n",
        "    'boolean values': 'true or false.',\n",
        "    'indentation':\t'spaces at the beginning of a code line',\n",
        "    'dictionary': 'a kind of data structure that stores items in key-value pairs.',\n",
        "    'comments':\t'code lines that will not be executed',\n",
        "    'list': 'stores multiple data together in a single variable in a specific order',\n",
        "    }\n",
        "word = 'boolean values'\n",
        "print(f\"\\n{word.title()}: {glossary[word]}\")\n",
        "\n",
        "word = 'indentation'\n",
        "print(f\"\\n{word.title()}: {glossary[word]}\")\n",
        "\n",
        "word = 'dictionary'\n",
        "print(f\"\\n{word.title()}: {glossary[word]}\")\n",
        "\n",
        "word = 'comments'\n",
        "print(f\"\\n{word.title()}: {glossary[word]}\")\n",
        "\n",
        "word = 'list'\n",
        "print(f\"\\n{word.title()}: {glossary[word]}\")"
      ],
      "metadata": {
        "id": "0wywcPMtHSK_"
      },
      "execution_count": null,
      "outputs": []
    },
    {
      "cell_type": "code",
      "source": [
        "#TIY 6-4\n",
        "\n",
        "glossary = {\n",
        "    'boolean values': 'true or false.',\n",
        "    'string': 'A series of characters.',\n",
        "    'loop': 'Work through a collection of items, one at a time.',\n",
        "    'conditional test': 'A comparison between two values.',\n",
        "    'key': 'The first item in a key-value pair in a dictionary.',\n",
        "    'value': 'An item associated with a key in a dictionary.',\n",
        "    'indentation':\t'spaces at the beginning of a code line',\n",
        "    'dictionary': 'a kind of data structure that stores items in key-value pairs.',\n",
        "    'comments':\t'code lines that will not be executed',\n",
        "    'list': 'stores multiple data together in a single variable in a specific order',\n",
        "    }\n",
        "\n",
        "for word, definition in glossary.items():\n",
        "    print(f\"\\n{word.title()}: {definition}\")"
      ],
      "metadata": {
        "id": "7Pqab_LwQsOl"
      },
      "execution_count": null,
      "outputs": []
    },
    {
      "cell_type": "code",
      "source": [
        "#TIY 6-11\n",
        "\n",
        "cities = {\n",
        "    'paris': {\n",
        "        'country': 'France',\n",
        "        'population': 67_750_000,\n",
        "        'fact': 'Atlantic',\n",
        "        },\n",
        "    'san diego': {\n",
        "        'country': 'united states',\n",
        "        'population': 1_382_000,\n",
        "        'fact': 'Pacific',\n",
        "        },\n",
        "    'mumbai': {\n",
        "        'country': 'India',\n",
        "        'population': 21_673_000,\n",
        "        'fact': 'Indian',\n",
        "        }\n",
        "        }\n",
        "\n",
        "for city, city_info in cities.items():\n",
        "    country = city_info['country'].title()\n",
        "    population = city_info['population']\n",
        "    mountains = city_info['fact'].title()\n",
        "\n",
        "    print(f\"\\n{city.title()} is in {country}.\")\n",
        "    print(f\"  It has a population of {population}.\")\n",
        "    print(f\"  The {mountains} Ocean is nearby.\")"
      ],
      "metadata": {
        "id": "xdUBWuUURryu"
      },
      "execution_count": null,
      "outputs": []
    },
    {
      "cell_type": "code",
      "source": [
        "#List\n",
        "\n",
        "player_grades = {'Jordan': 95, 'Lebron': 100, 'Kobe': 90, 'Shaq': 85}\n",
        "\n",
        "sorted_grades = dict(sorted(player_grades.items()))\n",
        "\n",
        "print(sorted_grades)\n",
        "\n",
        "sorted_grades = dict(sorted(player_grades.items(), key=lambda item: item[1], reverse = True))\n",
        "\n",
        "print(sorted_grades)"
      ],
      "metadata": {
        "colab": {
          "base_uri": "https://localhost:8080/"
        },
        "id": "yeVsmVqtbvi9",
        "outputId": "7fc57703-5ff7-46b9-88ac-bb7c76dee571"
      },
      "execution_count": 6,
      "outputs": [
        {
          "output_type": "stream",
          "name": "stdout",
          "text": [
            "{'Jordan': 95, 'Kobe': 90, 'Lebron': 100, 'Shaq': 85}\n",
            "{'Lebron': 100, 'Jordan': 95, 'Kobe': 90, 'Shaq': 85}\n"
          ]
        }
      ]
    }
  ]
}