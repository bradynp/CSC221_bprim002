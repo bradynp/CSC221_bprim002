{
  "nbformat": 4,
  "nbformat_minor": 0,
  "metadata": {
    "colab": {
      "provenance": [],
      "authorship_tag": "ABX9TyPHuwXK9v0r9g0g/bMkh6jB",
      "include_colab_link": true
    },
    "kernelspec": {
      "name": "python3",
      "display_name": "Python 3"
    },
    "language_info": {
      "name": "python"
    }
  },
  "cells": [
    {
      "cell_type": "markdown",
      "metadata": {
        "id": "view-in-github",
        "colab_type": "text"
      },
      "source": [
        "<a href=\"https://colab.research.google.com/github/bradynp/CSC221_bprim002/blob/main/Assignment5.ipynb\" target=\"_parent\"><img src=\"https://colab.research.google.com/assets/colab-badge.svg\" alt=\"Open In Colab\"/></a>"
      ]
    },
    {
      "cell_type": "code",
      "execution_count": null,
      "metadata": {
        "id": "nyixHnITLHBR"
      },
      "outputs": [],
      "source": [
        "# TIY 4-1\n",
        "\n",
        "favorite_pizzas = ['pepperoni', 'sausage', 'sicilian']\n",
        "\n",
        "for pizza in favorite_pizzas:\n",
        "    print(pizza)\n",
        "\n",
        "print(\"\\n\")\n",
        "\n",
        "for pizza in favorite_pizzas:\n",
        "    print(f\"I really love {pizza} pizza!\")\n",
        "\n",
        "print(\"\\nI really love pizza!\")"
      ]
    },
    {
      "cell_type": "code",
      "source": [
        "# TIY 4-2\n",
        "\n",
        "animals = [\"dog\", \"cat\", \"rabbit\"]\n",
        "\n",
        "for animal in animals:\n",
        "    print(animal)\n",
        "\n",
        "print(\"\\n\")\n",
        "\n",
        "for animal in animals:\n",
        "    print(f\"A {animal} would make a great pet.\")\n",
        "\n",
        "print(\"\\nAny of these animals make great pets.\")"
      ],
      "metadata": {
        "id": "oHa9ZDFBMgq2"
      },
      "execution_count": null,
      "outputs": []
    },
    {
      "cell_type": "code",
      "source": [
        "# TIY 4-3\n",
        "\n",
        "numbers = list(range(1, 21))\n",
        "\n",
        "for number in numbers:\n",
        "    print(number)"
      ],
      "metadata": {
        "id": "mW48gOzrM9Qg"
      },
      "execution_count": null,
      "outputs": []
    },
    {
      "cell_type": "code",
      "source": [
        "#TIY 4-4\n",
        "for number in range(1, 1000001):\n",
        "    print(number)"
      ],
      "metadata": {
        "id": "SGJ6zFH8OBTr"
      },
      "execution_count": null,
      "outputs": []
    },
    {
      "cell_type": "code",
      "source": [
        "# TIY 4-5\n",
        "\n",
        "numbers = list(range(1, 1_000_001))\n",
        "\n",
        "print(min(numbers))\n",
        "print(max(numbers))\n",
        "print(sum(numbers))"
      ],
      "metadata": {
        "id": "CwlIdJBKNZZ3"
      },
      "execution_count": null,
      "outputs": []
    },
    {
      "cell_type": "code",
      "source": [
        "# TIY 4-6\n",
        "\n",
        "odd_numbers = list(range(1, 20, 2))\n",
        "\n",
        "for number in odd_numbers:\n",
        "    print(number)"
      ],
      "metadata": {
        "id": "lcg4CxXWNhHD"
      },
      "execution_count": null,
      "outputs": []
    },
    {
      "cell_type": "code",
      "source": [
        "# TIY 4-7\n",
        "\n",
        "threes = list(range(3, 31, 3))\n",
        "\n",
        "for number in threes:\n",
        "    print(number)"
      ],
      "metadata": {
        "id": "MLSNXeY2NlJt"
      },
      "execution_count": null,
      "outputs": []
    },
    {
      "cell_type": "code",
      "source": [
        "# TIY 4-8\n",
        "\n",
        "for number in range(1, 11):\n",
        "    print(\"{} cubed is {}\".format(number, number ** 3))"
      ],
      "metadata": {
        "id": "nnGfeQIGRI7G"
      },
      "execution_count": null,
      "outputs": []
    },
    {
      "cell_type": "code",
      "source": [
        "# TIY 4-9\n",
        "\n",
        "cubes = [number**3 for number in range(1,11)]\n",
        "\n",
        "for cube in cubes:\n",
        "    print(cube)"
      ],
      "metadata": {
        "id": "nLMCRD3LRQef"
      },
      "execution_count": null,
      "outputs": []
    },
    {
      "cell_type": "code",
      "source": [
        "# TIY 4-10\n",
        "\n",
        "numbers = list(range(1, 21))\n",
        "print(\"The first three items in this list are:\")\n",
        "print(numbers[0:3])\n",
        "print(\"The middle three items in this list are:\")\n",
        "print(numbers[8:11])\n",
        "print(\"The final three items in this list are:\")\n",
        "print(numbers[17:20])"
      ],
      "metadata": {
        "id": "3O-sAjmk89kR"
      },
      "execution_count": null,
      "outputs": []
    },
    {
      "cell_type": "code",
      "source": [
        "# TIY 4-11\n",
        "\n",
        "favorite_pizzas = ['pepperoni', 'sausage', 'sicilian']\n",
        "friend_pizzas = favorite_pizzas[:]\n",
        "\n",
        "favorite_pizzas.append('black olives')\n",
        "friend_pizzas.append('chicken bacon ranch')\n",
        "\n",
        "print(\"My favorite pizzas are:\")\n",
        "for pizza in favorite_pizzas:\n",
        "    print(f\"- {pizza}\")\n",
        "\n",
        "print(\"\\nMy friend's favorite pizzas are:\")\n",
        "for pizza in friend_pizzas:\n",
        "    print(f\"- {pizza}\")"
      ],
      "metadata": {
        "id": "oCsCtRqy-Lm9"
      },
      "execution_count": null,
      "outputs": []
    },
    {
      "cell_type": "code",
      "source": [
        "# TIY 4-12\n",
        "\n",
        "my_foods = ['halal lamb', 'cheesecake', 'eggs']\n",
        "friend_foods = my_foods[:]\n",
        "\n",
        "my_foods.append('burrito')\n",
        "friend_foods.append('cookies')\n",
        "\n",
        "print(\"My favorite foods are:\")\n",
        "for food in my_foods:\n",
        "    print(f\"- {food}\")\n",
        "\n",
        "print(\"\\nMy friend's favorite foods are:\")\n",
        "for food in friend_foods:\n",
        "    print(f\"- {food}\")"
      ],
      "metadata": {
        "id": "kpQCsfLd_L6U"
      },
      "execution_count": null,
      "outputs": []
    },
    {
      "cell_type": "code",
      "source": [
        "# TIY 4-13\n",
        "\n",
        "menu_items = (\n",
        "    \"cheeseburger\",\n",
        "    \"chicken nuggets\",\n",
        "    \"ceasar salad\",\n",
        "    \"chicken sandwich\",\n",
        "    \"wings\",\n",
        ")\n",
        "\n",
        "print(\"You can choose from the following menu items:\")\n",
        "for item in menu_items:\n",
        "    print(f\"- {item}\")\n",
        "\n",
        "menu_items = (\"salmon\", \"quessadilla\", \"ceasar salad\", \"chicken sandwich\", \"wings\")\n",
        "\n",
        "print(\"\\nOur menu has been updated.\")\n",
        "print(\"You can now choose from the following items:\")\n",
        "for item in menu_items:\n",
        "    print(f\"- {item}\")\n"
      ],
      "metadata": {
        "id": "UJStiYno_vY7"
      },
      "execution_count": null,
      "outputs": []
    },
    {
      "cell_type": "code",
      "source": [
        "# TIY 4-14\n",
        "# Checked out the PEP-8"
      ],
      "metadata": {
        "id": "9_gVJpbfAXhG"
      },
      "execution_count": 42,
      "outputs": []
    },
    {
      "cell_type": "code",
      "source": [
        "# TIY 4-15\n",
        "\n",
        "# Modified TIY 4-13, 4-1, and 4-11 using PEP 8\n",
        "\n",
        "\n",
        "\n"
      ],
      "metadata": {
        "id": "hYWyBy84BPDa"
      },
      "execution_count": 43,
      "outputs": []
    },
    {
      "cell_type": "code",
      "source": [
        "def factorial(n):\n",
        "   if n == 0:\n",
        "    return 1\n",
        "   else:\n",
        "    return n * factorial(n - 1)\n",
        "\n",
        "print(factorial(5))\n",
        "print(factorial(10))\n",
        "print(factorial(20))\n",
        "print(factorial(50))"
      ],
      "metadata": {
        "id": "RKxyz5aCBSap"
      },
      "execution_count": null,
      "outputs": []
    },
    {
      "cell_type": "code",
      "source": [
        "my_list = list(range(0,50))\n",
        "\n",
        "def special_factorial(n):\n",
        "  if n == 0:\n",
        "    return 1\n",
        "  elif n == 4:\n",
        "    my_list.remove(4)\n",
        "  elif n == 13:\n",
        "    my_list.remove(13)\n",
        "  elif n == 22:\n",
        "    my_list.remove(22)\n",
        "  else:\n",
        "    return n * factorial(n - 1)\n",
        "\n",
        "print(special_factorial(5))\n",
        "print(special_factorial(10))\n",
        "print(special_factorial(20))\n",
        "print(special_factorial(50))"
      ],
      "metadata": {
        "id": "cVL--pJpH0OJ"
      },
      "execution_count": null,
      "outputs": []
    }
  ]
}