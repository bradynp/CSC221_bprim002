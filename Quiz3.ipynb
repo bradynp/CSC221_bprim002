{
  "nbformat": 4,
  "nbformat_minor": 0,
  "metadata": {
    "colab": {
      "provenance": [],
      "authorship_tag": "ABX9TyMxpqoz+DMYk09/hMHwCYVk",
      "include_colab_link": true
    },
    "kernelspec": {
      "name": "python3",
      "display_name": "Python 3"
    },
    "language_info": {
      "name": "python"
    }
  },
  "cells": [
    {
      "cell_type": "markdown",
      "metadata": {
        "id": "view-in-github",
        "colab_type": "text"
      },
      "source": [
        "<a href=\"https://colab.research.google.com/github/bradynp/CSC221_bprim002/blob/main/Quiz3.ipynb\" target=\"_parent\"><img src=\"https://colab.research.google.com/assets/colab-badge.svg\" alt=\"Open In Colab\"/></a>"
      ]
    },
    {
      "cell_type": "code",
      "execution_count": null,
      "metadata": {
        "id": "cBpHiQmXs8UC"
      },
      "outputs": [],
      "source": [
        "# abs()\n",
        "\n",
        "x = -5\n",
        "absolute_value = abs(x)\n",
        "print(\"The absolute value of\", x, \"is\", absolute_value)\n",
        "\n",
        "# example 2\n",
        "\n",
        "z = complex(-2, -3)\n",
        "absolute_value = abs(z)\n",
        "print(\"The absolute value of\", z, \"is\", absolute_value)"
      ]
    },
    {
      "cell_type": "code",
      "source": [
        "# eval()\n",
        "\n",
        "expression = \"3 + 4 * 2\"\n",
        "result = eval(expression)\n",
        "print(\"The result of the expression\", expression, \"is\", result)\n",
        "\n",
        "# example 2\n",
        "\n",
        "def greet(name):\n",
        "    return \"Hello, \" + name + \"!\"\n",
        "expression = \"greet('Bradyn')\"\n",
        "result = eval(expression)\n",
        "print(\"The result of the expression\", expression, \"is\", result)"
      ],
      "metadata": {
        "id": "uEtZnr91uaNc"
      },
      "execution_count": null,
      "outputs": []
    },
    {
      "cell_type": "code",
      "source": [
        "# list()\n",
        "\n",
        "string = \"hello\"\n",
        "char_list = list(string)\n",
        "print(\"List of characters:\", char_list)\n",
        "\n",
        "# example 2\n",
        "range_data = range(5)\n",
        "list_data = list(range_data)\n",
        "print(\"List from range:\", list_data)"
      ],
      "metadata": {
        "id": "C_5s3jqKvZ_H"
      },
      "execution_count": null,
      "outputs": []
    },
    {
      "cell_type": "code",
      "source": [
        "# str()\n",
        "\n",
        "integer_value = 123\n",
        "string_value = str(integer_value)\n",
        "print(\"String representation of\", integer_value, \"is\", string_value)\n",
        "\n",
        "# example 2\n",
        "\n",
        "list_data = [1, 2, 3]\n",
        "string_value = str(list_data)\n",
        "print(\"String representation of\", list_data, \"is\", string_value)"
      ],
      "metadata": {
        "id": "XNYwjIKiwDu2"
      },
      "execution_count": null,
      "outputs": []
    },
    {
      "cell_type": "code",
      "source": [
        "# range()\n",
        "\n",
        "sequence = range(1, 11, 2)\n",
        "print(\"Sequence:\", list(sequence))"
      ],
      "metadata": {
        "id": "IRtd4gcEwZJK"
      },
      "execution_count": null,
      "outputs": []
    },
    {
      "cell_type": "code",
      "source": [
        "# set()\n",
        "\n",
        "my_string = \"hello\"\n",
        "my_set = set(my_string)\n",
        "print(\"Set from string:\", my_set)\n",
        "\n",
        "# example 2\n",
        "\n",
        "my_tuple = (1, 2, 3, 3, 3)\n",
        "my_set = set(my_tuple)\n",
        "print(\"Set from tuple:\", my_set)"
      ],
      "metadata": {
        "id": "mb0Oays3w5A2"
      },
      "execution_count": null,
      "outputs": []
    },
    {
      "cell_type": "code",
      "source": [
        "# all()\n",
        "\n",
        "bool_list = [True, True, False, True]\n",
        "result = all(bool_list)\n",
        "print(\"Result:\", result)"
      ],
      "metadata": {
        "id": "uIJbU1vaxZTX"
      },
      "execution_count": null,
      "outputs": []
    },
    {
      "cell_type": "code",
      "source": [
        "# dict()\n",
        "\n",
        "my_dict = dict([('a', 1), ('b', 2), ('c', 3)])\n",
        "print(\"Dictionary:\", my_dict)\n",
        "\n",
        "# example 2\n",
        "\n",
        "empty_dict = dict()\n",
        "print(\"Empty dictionary:\", empty_dict)"
      ],
      "metadata": {
        "id": "hAJHnHhRxuko"
      },
      "execution_count": null,
      "outputs": []
    },
    {
      "cell_type": "code",
      "source": [
        "# open()\n",
        "\n",
        "with open(\"example.txt\", \"r\") as file:\n",
        "    content = file.read()\n",
        "    print(\"File content:\", content)\n",
        "\n",
        "# example 2\n",
        "\n",
        "with open(\"output.txt\", \"w\") as file:\n",
        "    file.write(\"This is a test message.\")"
      ],
      "metadata": {
        "id": "0SyMn7yWx-bP"
      },
      "execution_count": null,
      "outputs": []
    },
    {
      "cell_type": "code",
      "source": [
        "# vars()\n",
        "\n",
        "def my_function(a, b):\n",
        "    return a + b\n",
        "\n",
        "print(\"Variables of my_function:\", vars(my_function))\n",
        "\n",
        "# example 2 with class\n",
        "\n",
        "class MyClass:\n",
        "    def __init__(self, x, y):\n",
        "        self.x = x\n",
        "        self.y = y\n",
        "\n",
        "obj = MyClass(5, 10)\n",
        "print(\"Variables of obj:\", vars(obj))"
      ],
      "metadata": {
        "id": "A0R-7DexymzS"
      },
      "execution_count": null,
      "outputs": []
    },
    {
      "cell_type": "code",
      "source": [
        "# sum()\n",
        "\n",
        "numbers = [1, 2, 3, 4, 5]\n",
        "total = sum(numbers)\n",
        "print(\"Sum of numbers:\", total)\n",
        "\n",
        "# example 2\n",
        "\n",
        "numbers = [1, 2, 3, 4, 5]\n",
        "start_value = 10\n",
        "total = sum(numbers, start_value)\n",
        "print(\"Sum of numbers with start value:\", total)"
      ],
      "metadata": {
        "id": "x65pfQkDy7n1"
      },
      "execution_count": null,
      "outputs": []
    },
    {
      "cell_type": "code",
      "source": [
        "# len()\n",
        "\n",
        "string = \"hello\"\n",
        "length = len(string)\n",
        "print(\"Length of string:\", length)\n",
        "\n",
        "# example 2\n",
        "\n",
        "my_dict = {'a': 1, 'b': 2, 'c': 3}\n",
        "length = len(my_dict)\n",
        "print(\"Length of dictionary:\", length)\n",
        "\n",
        "# example 3\n",
        "\n",
        "my_tuple = (1, 2, 3, 4, 5)\n",
        "length = len(my_tuple)\n",
        "print(\"Length of tuple:\", length)"
      ],
      "metadata": {
        "id": "mh9l2jevzisw"
      },
      "execution_count": null,
      "outputs": []
    },
    {
      "cell_type": "code",
      "source": [
        "# input()\n",
        "\n",
        "name = input(\"Enter your name: \")\n",
        "print(\"Hello,\", name)\n",
        "\n",
        "# example 2\n",
        "\n",
        "age_str = input(\"Enter your age: \")\n",
        "age = int(age_str)\n",
        "print(\"Your age is:\", age)"
      ],
      "metadata": {
        "id": "51ErpZdlzzAm"
      },
      "execution_count": null,
      "outputs": []
    },
    {
      "cell_type": "code",
      "source": [
        "# classmethod()\n",
        "\n",
        "class MyClass:\n",
        "    class_variable = 0\n",
        "\n",
        "    def __init__(self, value):\n",
        "        self.value = value\n",
        "\n",
        "    @classmethod\n",
        "    def add_class_variable(cls, increment):\n",
        "        cls.class_variable += increment\n",
        "\n",
        "    def get_value(self):\n",
        "        return self.value\n",
        "    @classmethod\n",
        "    def get_class_variable(cls):\n",
        "        return cls.class_variable\n",
        "\n",
        "obj1 = MyClass(5)\n",
        "obj2 = MyClass(10)\n",
        "\n",
        "MyClass.add_class_variable(5)\n",
        "\n",
        "print(\"Class variable:\", MyClass.get_class_variable())\n",
        "\n",
        "print(\"Value of obj1:\", obj1.get_value())\n",
        "print(\"Value of obj2:\", obj2.get_value())\n"
      ],
      "metadata": {
        "id": "pINxmYv80OTq"
      },
      "execution_count": null,
      "outputs": []
    },
    {
      "cell_type": "code",
      "source": [
        "# print()\n",
        "\n",
        "print(\"Hello, World!\")\n",
        "\n",
        "# example 2\n",
        "\n",
        "name = \"Bradyn\"\n",
        "age = 19\n",
        "print(\"Name:\", name, \"Age:\", age)"
      ],
      "metadata": {
        "id": "aeZd9JzB1ByJ"
      },
      "execution_count": null,
      "outputs": []
    },
    {
      "cell_type": "code",
      "source": [
        "# help()\n",
        "\n",
        "import math\n",
        "help(math)\n",
        "\n"
      ],
      "metadata": {
        "id": "cEApLBMZ1fQM"
      },
      "execution_count": null,
      "outputs": []
    },
    {
      "cell_type": "code",
      "source": [
        "# id()\n",
        "x = 10\n",
        "print(\"ID of x:\", id(x))\n",
        "\n",
        "# example 2\n",
        "my_dict = {'a': 1, 'b': 2}\n",
        "print(\"ID of my_dict:\", id(my_dict))"
      ],
      "metadata": {
        "id": "cmK-P-eP4DZt"
      },
      "execution_count": null,
      "outputs": []
    },
    {
      "cell_type": "code",
      "source": [
        "# globals()\n",
        "\n",
        "x = 10\n",
        "y = 20\n",
        "\n",
        "def my_function():\n",
        "    z = 30\n",
        "    print(\"Global variables:\", globals())\n",
        "\n",
        "my_function()"
      ],
      "metadata": {
        "id": "I2F8Cx4j4Ty3"
      },
      "execution_count": null,
      "outputs": []
    },
    {
      "cell_type": "code",
      "source": [
        "# hash()\n",
        "\n",
        "print(\"Hash of 42:\", hash(42))\n",
        "print(\"Hash of -42:\", hash(-42))\n",
        "\n",
        "print(\"Hash of 'hello':\", hash('hello'))\n",
        "\n",
        "print(\"Hash of 3.14:\", hash(3.14))\n",
        "\n",
        "print(\"Hash of (1, 2, 3):\", hash((1, 2, 3)))"
      ],
      "metadata": {
        "id": "u1oKKjBZ4gBK"
      },
      "execution_count": null,
      "outputs": []
    },
    {
      "cell_type": "code",
      "source": [
        "# compile()\n",
        "\n",
        "code = compile('def greet(name):\\n    print(\"Hello, \" + name)', '<string>', 'exec')\n",
        "exec(code)\n",
        "greet('Alice')\n",
        "\n",
        "expression = compile('10 + 20', '<string>', 'eval')\n",
        "result = eval(expression)\n",
        "print(\"Result of expression:\", result)"
      ],
      "metadata": {
        "id": "dWhsgtI45S7y"
      },
      "execution_count": null,
      "outputs": []
    }
  ]
}